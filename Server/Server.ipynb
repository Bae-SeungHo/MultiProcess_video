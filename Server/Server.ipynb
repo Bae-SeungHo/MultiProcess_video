{
 "cells": [
  {
   "cell_type": "code",
   "execution_count": 1,
   "id": "bf62ec28-85dd-46f9-90df-f34f0ae10186",
   "metadata": {},
   "outputs": [],
   "source": [
    "from multiprocessing import Process , Queue , Manager\n",
    "import numpy as np\n",
    "import cv2\n",
    "import Source as S"
   ]
  },
  {
   "cell_type": "code",
   "execution_count": 2,
   "id": "61b506e4-eb9c-413e-8ea2-28fe5eb1e176",
   "metadata": {},
   "outputs": [],
   "source": [
    "manager= Manager()\n",
    "OnlineQ = manager.Queue()\n",
    "FrameQ = manager.Queue()\n",
    "GestureQ = manager.Queue()"
   ]
  },
  {
   "cell_type": "code",
   "execution_count": 3,
   "id": "e6119594-ceca-4542-8eb7-7ad3afd260ee",
   "metadata": {},
   "outputs": [],
   "source": [
    "S.Create(9911)\n",
    "client = S.Accept()\n"
   ]
  },
  {
   "cell_type": "code",
   "execution_count": 4,
   "id": "5b88137e-a9ec-453b-9fa2-e43b1964623d",
   "metadata": {},
   "outputs": [],
   "source": [
    "\n",
    "R_Thread = Process(target=S.R_Thread, args=(client,FrameQ,OnlineQ))  # Reciv Frame Thread Online\n",
    "R_Thread.start()  # Reciv Thread Start\n",
    "T_Thread = Process(target=S.T_Thread, args=(client,GestureQ,OnlineQ))\n",
    "T_Thread.start()"
   ]
  },
  {
   "cell_type": "code",
   "execution_count": 5,
   "id": "e7744cdb-fd5a-49e1-af11-15b256bf9782",
   "metadata": {},
   "outputs": [],
   "source": [
    "M_Thread = Process(target=S.M_Thread, args=(client,FrameQ,GestureQ,OnlineQ))\n",
    "M_Thread.start()"
   ]
  },
  {
   "cell_type": "code",
   "execution_count": 18,
   "id": "144d9c92-7995-43af-91e9-5dd33a77d5f1",
   "metadata": {},
   "outputs": [],
   "source": [
    "for i in range(FrameQ.qsize()):\n",
    "    cv2.imshow('frame',FrameQ.get())\n",
    "    if cv2.waitKey(1) == ord('q'):\n",
    "        break\n",
    "cv2.destroyAllWindows()"
   ]
  }
 ],
 "metadata": {
  "kernelspec": {
   "display_name": "Python 3 (ipykernel)",
   "language": "python",
   "name": "python3"
  },
  "language_info": {
   "codemirror_mode": {
    "name": "ipython",
    "version": 3
   },
   "file_extension": ".py",
   "mimetype": "text/x-python",
   "name": "python",
   "nbconvert_exporter": "python",
   "pygments_lexer": "ipython3",
   "version": "3.7.9"
  }
 },
 "nbformat": 4,
 "nbformat_minor": 5
}
