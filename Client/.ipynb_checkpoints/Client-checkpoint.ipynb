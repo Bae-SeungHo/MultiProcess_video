{
 "cells": [
  {
   "cell_type": "code",
   "execution_count": 1,
   "id": "1771f3cb-d360-4963-b5de-d68bb735ac96",
   "metadata": {},
   "outputs": [],
   "source": [
    "from multiprocessing import Process , Queue , Manager\n",
    "import Source as S"
   ]
  },
  {
   "cell_type": "code",
   "execution_count": 2,
   "id": "5359d9ac-95f6-452c-81fe-e82e81bfaeeb",
   "metadata": {},
   "outputs": [],
   "source": [
    "Gesture_Options = ['Terminated','None','NurseCall','Picture']"
   ]
  },
  {
   "cell_type": "code",
   "execution_count": 3,
   "id": "b0d19aab-4614-414f-8216-e72cebf763c8",
   "metadata": {},
   "outputs": [],
   "source": [
    "manager = Manager()\n",
    "OnlineQ = manager.Queue()\n",
    "#GestureQ = manager.Queue()\n",
    "SoundQ = manager.Queue()"
   ]
  },
  {
   "cell_type": "code",
   "execution_count": 4,
   "id": "a7cd8f7d-c646-4cb5-8191-35ded6ce9e3e",
   "metadata": {},
   "outputs": [],
   "source": [
    "server = S.Connect(9925)\n",
    "T_Thread = Process(target=S.T_Thread, args=(server,SoundQ,OnlineQ))\n",
    "T_Thread.start()\n",
    "\n",
    "R_Thread = Process(target=S.R_Thread, args=(server,SoundQ,OnlineQ))\n",
    "R_Thread.start()  \n",
    "\n",
    "Sound_Thread = Process(target=S.Sound_Thread, args=(SoundQ,OnlineQ))  \n",
    "Sound_Thread.start()  "
   ]
  },
  {
   "cell_type": "code",
   "execution_count": 5,
   "id": "9e541e6b-421a-45e4-b6b5-f589abad8bdf",
   "metadata": {},
   "outputs": [
    {
     "data": {
      "text/plain": [
       "1"
      ]
     },
     "execution_count": 5,
     "metadata": {},
     "output_type": "execute_result"
    }
   ],
   "source": [
    "\n",
    "SoundQ.qsize()"
   ]
  },
  {
   "cell_type": "code",
   "execution_count": 6,
   "id": "f238bc0a-8b93-4fa7-be86-0baf73a870dd",
   "metadata": {},
   "outputs": [],
   "source": []
  },
  {
   "cell_type": "code",
   "execution_count": null,
   "id": "955fc018-fb53-4c89-ad25-ef8d55a85828",
   "metadata": {},
   "outputs": [],
   "source": []
  }
 ],
 "metadata": {
  "kernelspec": {
   "display_name": "Python 3",
   "language": "python",
   "name": "python3"
  },
  "language_info": {
   "codemirror_mode": {
    "name": "ipython",
    "version": 3
   },
   "file_extension": ".py",
   "mimetype": "text/x-python",
   "name": "python",
   "nbconvert_exporter": "python",
   "pygments_lexer": "ipython3",
   "version": "3.6.13"
  }
 },
 "nbformat": 4,
 "nbformat_minor": 5
}
