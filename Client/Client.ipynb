{
 "cells": [
  {
   "cell_type": "code",
   "execution_count": 1,
   "id": "1771f3cb-d360-4963-b5de-d68bb735ac96",
   "metadata": {},
   "outputs": [],
   "source": [
    "from multiprocessing import Process , Queue , Manager\n",
    "import Source as S"
   ]
  },
  {
   "cell_type": "code",
   "execution_count": 2,
   "id": "b0d19aab-4614-414f-8216-e72cebf763c8",
   "metadata": {},
   "outputs": [],
   "source": [
    "manager = Manager()\n",
    "OnlineQ = manager.Queue()\n",
    "SoundQ = manager.Queue()\n",
    "ResultQ = manager.Queue()"
   ]
  },
  {
   "cell_type": "code",
   "execution_count": 3,
   "id": "019646a2-8a06-4dd5-997a-f2d1521fd770",
   "metadata": {},
   "outputs": [],
   "source": [
    "server = S.Connect(9911)\n"
   ]
  },
  {
   "cell_type": "code",
   "execution_count": 4,
   "id": "a7cd8f7d-c646-4cb5-8191-35ded6ce9e3e",
   "metadata": {},
   "outputs": [],
   "source": [
    "\n",
    "R_Thread = Process(target=S.R_Thread, args=(server,SoundQ,OnlineQ))\n",
    "R_Thread.start()  \n",
    "\n",
    "Sound_Thread = Process(target=S.Sound_Thread, args=(SoundQ,OnlineQ,ResultQ))  \n",
    "Sound_Thread.start()  "
   ]
  },
  {
   "cell_type": "code",
   "execution_count": 5,
   "id": "d8b31bf3-30a6-405b-b153-be39036f9431",
   "metadata": {},
   "outputs": [],
   "source": [
    "T_Thread = Process(target=S.T_Thread, args=(server,OnlineQ,ResultQ))\n",
    "T_Thread.start()\n"
   ]
  },
  {
   "cell_type": "code",
   "execution_count": null,
   "id": "ebba0395-bdf4-42c7-87c8-de5e7084a563",
   "metadata": {},
   "outputs": [],
   "source": []
  }
 ],
 "metadata": {
  "kernelspec": {
   "display_name": "Python 3 (ipykernel)",
   "language": "python",
   "name": "python3"
  },
  "language_info": {
   "codemirror_mode": {
    "name": "ipython",
    "version": 3
   },
   "file_extension": ".py",
   "mimetype": "text/x-python",
   "name": "python",
   "nbconvert_exporter": "python",
   "pygments_lexer": "ipython3",
   "version": "3.7.9"
  }
 },
 "nbformat": 4,
 "nbformat_minor": 5
}
